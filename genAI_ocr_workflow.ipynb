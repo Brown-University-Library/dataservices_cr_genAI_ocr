{
 "cells": [
  {
   "cell_type": "code",
   "execution_count": 1,
   "id": "3d1ee900-5ba4-4fb2-9036-ac99a220c6d2",
   "metadata": {},
   "outputs": [],
   "source": [
    "import anthropic\n",
    "import base64\n",
    "import os\n",
    "import pandas as pd\n",
    "import io\n",
    "import time\n",
    "import re\n",
    "import json\n",
    "\n",
    "import config"
   ]
  },
  {
   "cell_type": "code",
   "execution_count": 2,
   "id": "6165b1ec-894c-4fb3-a0d3-bba8cac03544",
   "metadata": {},
   "outputs": [],
   "source": [
    "# set anthropic API key\n",
    "api_key = config.anthropic_api_key"
   ]
  },
  {
   "cell_type": "markdown",
   "id": "dc0223a5-0f69-4479-921a-b5d3baed15ce",
   "metadata": {},
   "source": [
    "## Step one: initialize Anthropic API client"
   ]
  },
  {
   "cell_type": "code",
   "execution_count": 3,
   "id": "c1f311e5-708e-438e-ab47-8735e34790de",
   "metadata": {},
   "outputs": [],
   "source": [
    "client = anthropic.Anthropic(api_key = api_key)"
   ]
  },
  {
   "cell_type": "markdown",
   "id": "eb883262-76d8-4dc1-bb19-43a771b84da0",
   "metadata": {},
   "source": [
    "## Step two: Define querying/prompting function"
   ]
  },
  {
   "cell_type": "code",
   "execution_count": null,
   "id": "3f50ce2d-649e-44df-bb78-5555734a5123",
   "metadata": {},
   "outputs": [],
   "source": [
    "# take in an image (e.g. from a PDF page); query claude API; return table\n",
    "def create_jsonl_response_from_image(image_path, year = 1960):\n",
    "    # read image\n",
    "    with open(image_path, \"rb\") as f:\n",
    "        image_data = f.read()\n",
    "        base64_image = base64.b64encode(image_data).decode()\n",
    "    # construct messsage for API\n",
    "    # remove negative language\n",
    "    # for each row, extract the following information\n",
    "    # in your response, write ITEM: COUNTRY: VALUE:\n",
    "    # get more responses, THEN use regex to extract values and structure as table.\n",
    "    # parse as JSON as an intermediary step\n",
    "    # batch!\n",
    "\n",
    "    if year < 1964:\n",
    "        value_type = \"PESOS\"\n",
    "    else:\n",
    "        value_type = \"DOLARES\"\n",
    "    messages = [\n",
    "        {\n",
    "            \"role\": \"user\",\n",
    "            \"content\": [\n",
    "                {\n",
    "                    \"type\": \"text\",\n",
    "                    \"text\": \"For the image included, please read this historical table and return a JSON list that contains one dictionary for every row of the table The output should include the following three keys: DESCRIPCION, PAIS, and VALORES and the values should come from every row in the original table. Every row in the original data should appear in the output JSON list. Here are the rows for each key. For the Descripcion value, please only include the string of numbers and spaces that appear in the DESCRIPCION table column - this value looks something like 051 07 02 00. Treat this data like a string and include leading zeros and spaces. Please note that every JSON dictionary object must include a DESCRIPCION column value. When reading the original historical table image, you must fill in the blank DESCRIPCION values for each row that contains only a PAIS value - these PAIS values are all sub-items of a main row and so you can fill in the DESCRIPCION value with the first value you see above those rows with only PAIS values. The PAIS value is either missing (which is ok) or the value in that column, like NICARAGUA, HONDURAS, etc. For VALORES, use the value in the \" + value_type + \" column.\"\n",
    "                },\n",
    "                {\n",
    "                    \"type\": \"image\",\n",
    "                    \"source\": {\n",
    "                        \"type\": \"base64\",\n",
    "                        \"media_type\": \"image/jpeg\",\n",
    "                        \"data\": base64_image\n",
    "                    }\n",
    "                }\n",
    "            ]\n",
    "        },\n",
    "        {\n",
    "            \"role\": \"assistant\",\n",
    "            \"content\":'''[\n",
    "    {\n",
    "        \"DESCRIPCION\":''' }\n",
    "    ]\n",
    "\n",
    "    # send message\n",
    "\n",
    "    response = client.messages.create(\n",
    "        model=\"claude-3-5-sonnet-20241022\",\n",
    "        messages=messages,\n",
    "        system=\"You are a historian of economics data, looking to create detailed, error-free JSON list data based on scanned typerwriter tables. Please double-check that all values appear in the correct columns and rows, and that every individual digit has been digitized correctly. Include a complete list of everything you detected in the historical table in your response. Only include the JSON list in your result. Return the complete results, and make sure to properly close the JSON list in your response.\",\n",
    "        max_tokens=8192\n",
    "    )\n",
    "\n",
    "\n",
    "    text_content = response.content[0].text\n",
    "\n",
    "\n",
    "    # we must manually add the JSON prefix text back\n",
    "    text_content_final = '''[\n",
    "    {\n",
    "        \"DESCRIPCION\":''' + text_content\n",
    "    \n",
    " \n",
    "    text_content_final\n",
    "\n",
    "    return text_content_final"
   ]
  },
  {
   "cell_type": "code",
   "execution_count": null,
   "id": "168b321d-66b2-4748-a4ef-acff0e4d4684",
   "metadata": {},
   "outputs": [],
   "source": [
    "# test\n",
    "\n",
    "# test with existing image\n",
    "start_time = time.time()\n",
    "test_output = create_dataframe_from_image(\"images_import_only/file1960_page40.jpg\")\n",
    "print(f\"Time taken: {time.time() - start_time} seconds\")"
   ]
  },
  {
   "cell_type": "markdown",
   "id": "20362c98-e845-4927-bd72-0021b173142f",
   "metadata": {},
   "source": [
    "## Step three: Run workflow"
   ]
  },
  {
   "cell_type": "code",
   "execution_count": null,
   "id": "3e64f8ac-a254-4967-89c3-8f268b317a03",
   "metadata": {},
   "outputs": [],
   "source": [
    "# create metadata based on import/export images in folders\n",
    "# this metadata will drive the querying process next\n",
    "\n",
    "all_import_images = os.listdir('images_import_only')\n",
    "all_export_images =  os.listdir('images_export_only')\n",
    "\n",
    "all_image_metadata = []"
   ]
  },
  {
   "cell_type": "code",
   "execution_count": null,
   "id": "c7bf710e-4d01-44e2-bdf8-d27b144f094f",
   "metadata": {},
   "outputs": [],
   "source": [
    "for image_filename in all_import_images:\n",
    "    try:\n",
    "        year = int(image_filename[4:8])\n",
    "        image_page = int(image_filename[13:-4])\n",
    "        current_image = {'year': year\n",
    "                         ,'page': image_page\n",
    "                         ,'source_type': 'import'\n",
    "                         ,'filename': image_filename\n",
    "                         ,'full_path': 'images_import_only/' + image_filename}\n",
    "        all_image_metadata.append(current_image)\n",
    "    except:\n",
    "        pass\n",
    "\n",
    "for image_filename in all_export_images:\n",
    "    try:\n",
    "        year = int(image_filename[4:8])\n",
    "        image_page = int(image_filename[13:-4])\n",
    "        current_image = {'year': year\n",
    "                         ,'page': image_page\n",
    "                         ,'source_type': 'export'\n",
    "                         ,'filename': image_filename\n",
    "                         ,'full_path': 'images_export_only/' + image_filename}\n",
    "        all_image_metadata.append(current_image)\n",
    "    except:\n",
    "        pass\n",
    "\n",
    "                "
   ]
  },
  {
   "cell_type": "code",
   "execution_count": null,
   "id": "837062da-dfa0-4486-9e03-de8fdef146d1",
   "metadata": {},
   "outputs": [],
   "source": [
    "all_images_df = pd.DataFrame(all_image_metadata).sort_values(['source_type', 'year', 'page'], ascending=[False, True, True])\n",
    "all_images_df"
   ]
  },
  {
   "cell_type": "code",
   "execution_count": null,
   "id": "69a66c07-03d7-463e-b14f-01054b0ba4be",
   "metadata": {},
   "outputs": [],
   "source": [
    "# ALL EXPORTS LET US TRY\n",
    "\n",
    "for image in all_images_df[all_images_df[\"source_type\"] == \"export\"].to_dict(orient=\"records\"):\n",
    "    image_full_path = image[\"full_path\"]\n",
    "    image_filename = image[\"filename\"]\n",
    "    image_year = int(image[\"year\"])\n",
    "    image_page = image[\"page\"]\n",
    "    start_time = time.time()\n",
    "    test_output = create_dataframe_from_image(image_full_path, image_year)\n",
    "    print(f\"Time taken: {time.time() - start_time} seconds\")\n",
    "    # try to parse the JSON and conver to csv. if it works, save as CSV. if not, save as raw TXT\n",
    "    try:\n",
    "        parsed_json = json.loads(test_output)\n",
    "        final_dataframe = pd.DataFrame(parsed_json)\n",
    "        output_filename = image_filename[0:-4]\n",
    "        output_filename = output_filename + \"_export.csv\"\n",
    "        final_dataframe[\"year\"] = image_year\n",
    "        final_dataframe[\"pdf_image_page\"] = image_page\n",
    "        final_dataframe.to_csv(\"data_export_only/\" + output_filename, index=False)\n",
    "        print(\"success for \" + image_filename + \" response\")\n",
    "    except:\n",
    "        print(\"parsing error! will save as text.\")\n",
    "        output_filename = image_filename[0:-4]\n",
    "        output_filename = output_filename + \"_export_parsefail.txt\"\n",
    "        with open(\"data_export_only/\" + output_filename, \"w\") as text_file:\n",
    "            text_file.write(test_output)\n",
    "        print(\"written as raw text.\")\n",
    "\n",
    "    time.sleep(5)\n"
   ]
  },
  {
   "cell_type": "code",
   "execution_count": null,
   "id": "dd079166-57b5-4498-a5e0-9b2c93ee6381",
   "metadata": {},
   "outputs": [],
   "source": [
    "# add slight tweaked version for imports here!!!"
   ]
  }
 ],
 "metadata": {
  "kernelspec": {
   "display_name": "Python 3 (ipykernel)",
   "language": "python",
   "name": "python3"
  },
  "language_info": {
   "codemirror_mode": {
    "name": "ipython",
    "version": 3
   },
   "file_extension": ".py",
   "mimetype": "text/x-python",
   "name": "python",
   "nbconvert_exporter": "python",
   "pygments_lexer": "ipython3",
   "version": "3.12.7"
  }
 },
 "nbformat": 4,
 "nbformat_minor": 5
}
