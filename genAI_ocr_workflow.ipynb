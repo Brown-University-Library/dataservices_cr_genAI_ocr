{
 "cells": [
  {
   "cell_type": "code",
   "execution_count": 9,
   "id": "3d1ee900-5ba4-4fb2-9036-ac99a220c6d2",
   "metadata": {},
   "outputs": [],
   "source": [
    "import anthropic\n",
    "import base64\n",
    "import os\n",
    "import pandas as pd\n",
    "import io\n",
    "import time\n",
    "import re\n",
    "import json\n",
    "\n",
    "import config"
   ]
  },
  {
   "cell_type": "markdown",
   "id": "dc0223a5-0f69-4479-921a-b5d3baed15ce",
   "metadata": {},
   "source": [
    "## Step one: Initialize Anthropic API client"
   ]
  },
  {
   "cell_type": "code",
   "execution_count": 10,
   "id": "6165b1ec-894c-4fb3-a0d3-bba8cac03544",
   "metadata": {},
   "outputs": [],
   "source": [
    "# set anthropic API key\n",
    "api_key = config.anthropic_api_key"
   ]
  },
  {
   "cell_type": "code",
   "execution_count": 11,
   "id": "c1f311e5-708e-438e-ab47-8735e34790de",
   "metadata": {},
   "outputs": [],
   "source": [
    "client = anthropic.Anthropic(api_key = api_key)"
   ]
  },
  {
   "cell_type": "markdown",
   "id": "eb883262-76d8-4dc1-bb19-43a771b84da0",
   "metadata": {},
   "source": [
    "## Step two: Compose prompt segments + define prompt function"
   ]
  },
  {
   "cell_type": "markdown",
   "id": "604b0efa-9d0c-4f2f-a338-4ca5b01b5f95",
   "metadata": {},
   "source": [
    "Below, we define a prompt function that will request a response from the Claude genAI model via the Anthropic API. Keep in mind the following three pieces of the prompt:\n",
    "\n",
    "* The user message\n",
    "* The system message\n",
    "* The assistant prefix\n",
    "\n",
    "More information via the [Anthropic API technical documentation](https://docs.anthropic.com/en/api/messages)\n",
    "\n",
    "Note that in order to accomodate different possible `value` columns, we are using a function parameter to define the user message based on the year."
   ]
  },
  {
   "cell_type": "code",
   "execution_count": 12,
   "id": "0abfb921-94b3-4bae-ba8b-3a05ec439349",
   "metadata": {},
   "outputs": [],
   "source": [
    "assistant_prefix = '''[\n",
    "    {\n",
    "        \"DESCRIPCION\":'''"
   ]
  },
  {
   "cell_type": "code",
   "execution_count": 17,
   "id": "1f8ea3a8-c4fd-4128-89e0-689c0838c403",
   "metadata": {},
   "outputs": [],
   "source": [
    "# take in an image (e.g. from a PDF page); query claude API; return table\n",
    "def compose_image_message(image_path, year, type_of_data = \"import\", assistant_pre = \"\"):\n",
    "    # read image\n",
    "    with open(image_path, \"rb\") as f:\n",
    "        image_data = f.read()\n",
    "        base64_image = base64.b64encode(image_data).decode()\n",
    "\n",
    "    # set our three prompt components:\n",
    "    # first, set a value column to use based on the year\n",
    "    if year < 1964:\n",
    "        value_type = \"DOLARES\"\n",
    "    elif year == 1964:\n",
    "        value_type = \"PESOS CA\"\n",
    "    else:\n",
    "    \tvalue_type = \"PESOS CENTROAMERICANOS\"\n",
    "\n",
    "    # now define our three components\n",
    "    user_message = \"For the image included, please read this historical table and return a JSON list that contains one dictionary per row. Anazlyze every single row you see and follow the next instructions to create a JSON list. The output should include the following three keys: DESCRIPCION, PAIS, and VALOR.  Please format each value in the row as follows. For the DESCRIPCION value, include only the string of numbers and spaces that appear in the DESCRIPCION table column - this value looks something like 051 07 02 00. Treat this data like a string and include leading zeros and spaces. Null/blank values are acceptable - return them as empty strings. For the PAIS value, please return exactly the PAIS value (examples: HONDURAS, U A E). Double check that you have the PAIS string exactly right - double check the letters and respect the sequence. Include every single row that contains a PAIS value. For VALOR, please return the value in the \" + value_type + \" column. Please double-check your accuracy scanning this number.\"\n",
    "\n",
    "    # now, compose our message\n",
    "\n",
    "    messages = [\n",
    "        {\n",
    "            \"role\": \"user\",\n",
    "            \"content\": [\n",
    "                {\n",
    "                    \"type\": \"text\",\n",
    "                    \"text\":  user_message\n",
    "\n",
    "\n",
    "                },\n",
    "                {\n",
    "                    \"type\": \"image\",\n",
    "                    \"source\": {\n",
    "                        \"type\": \"base64\",\n",
    "                        \"media_type\": \"image/jpeg\",\n",
    "                        \"data\": base64_image\n",
    "                    }\n",
    "                }\n",
    "            ]\n",
    "        },\n",
    "        {\n",
    "            \"role\": \"assistant\",\n",
    "            \"content\": assistant_pre }\n",
    "    ]\n",
    "\n",
    "    return messages"
   ]
  },
  {
   "cell_type": "code",
   "execution_count": 18,
   "id": "f612dbe6-5b38-4338-b433-cd2632a5f04a",
   "metadata": {},
   "outputs": [],
   "source": [
    "# set a system prompt for claude\n",
    "system_prompt = \"You are a historian of economics data, looking to create detailed, error-free JSON list data based on scanned typerwriter tables. Only include the JSON list in your result. Return the complete results, and make sure to properly close the JSON list in your response.\""
   ]
  },
  {
   "cell_type": "code",
   "execution_count": 19,
   "id": "005a8c2d-aaf1-45cd-b60a-ccc4a5c5c917",
   "metadata": {},
   "outputs": [],
   "source": [
    "def submit_image_prompt(message, api_client, system, assistant_pre):\n",
    "    # send message\n",
    "\n",
    "    response = api_client.messages.create(\n",
    "        model=\"claude-3-5-sonnet-20241022\",\n",
    "        messages=message,\n",
    "        system=system,\n",
    "        max_tokens=8192\n",
    "    )\n",
    "\n",
    "\n",
    "    # return just the text response\n",
    "    text_content = response.content[0].text\n",
    "\n",
    "\n",
    "    # we must manually add the JSON prefix text back\n",
    "    text_content_final = assistant_pre + text_content\n",
    "    \n",
    "\n",
    "    # now return the output\n",
    "    text_content_final\n",
    "\n",
    "    return text_content_final"
   ]
  },
  {
   "cell_type": "markdown",
   "id": "04e22c35-abc6-4d73-a986-93388b339d69",
   "metadata": {},
   "source": [
    "\n",
    "Note that for this project, we need to conditionally modify the message for a key column (`values`) based on the `year` value in the data."
   ]
  },
  {
   "cell_type": "markdown",
   "id": "cf41fac7-6190-4e55-9e29-3dc6e1f3115e",
   "metadata": {},
   "source": [
    "## Step three: Test the prompt and parse the result as JSON"
   ]
  },
  {
   "cell_type": "code",
   "execution_count": 22,
   "id": "168b321d-66b2-4748-a4ef-acff0e4d4684",
   "metadata": {},
   "outputs": [
    {
     "name": "stdout",
     "output_type": "stream",
     "text": [
      "Time taken: 14.299123287200928 seconds\n"
     ]
    }
   ],
   "source": [
    "# test\n",
    "\n",
    "# test with existing image\n",
    "start_time = time.time()\n",
    "test_message = compose_image_message(\"images_import_only/file1960_page40.jpg\", year = 1960, type_of_data = \"import\", assistant_pre = assistant_prefix)\n",
    "test_output = submit_image_prompt(test_message, client, system_prompt, assistant_prefix)\n",
    "print(f\"Time taken: {time.time() - start_time} seconds\")"
   ]
  },
  {
   "cell_type": "code",
   "execution_count": 23,
   "id": "d64063a7-068c-48dc-b3a0-c6f80722595c",
   "metadata": {},
   "outputs": [
    {
     "data": {
      "text/plain": [
       "'[\\n    {\\n        \"DESCRIPCION\":  \"048 01 01 03\",\\n        \"PAIS\": \"E U A\",\\n        \"VALOR\": 239824\\n    },\\n    {\\n        \"DESCRIPCION\": \"048 01 01 03\",\\n        \"PAIS\": \"HOLANDA\",\\n        \"VALOR\": 29192\\n    },\\n    {\\n        \"DESCRIPCION\": \"048 01 01 03\",\\n        \"PAIS\": \"CANADA\",\\n        \"VALOR\": 1008\\n    },\\n    {\\n        \"DESCRIPCION\": \"048 01 01 03\",\\n        \"PAIS\": \"ALEMANOC\",\\n        \"VALOR\": 478\\n    },\\n    {\\n        \"DESCRIPCION\": \"048 01 01 03\",\\n        \"PAIS\": \"MEXICO\",\\n        \"VALOR\": 541\\n    },\\n    {\\n        \"DESCRIPCION\": \"048 01 01 03\",\\n        \"PAIS\": \"REINOUNI\",\\n        \"VALOR\": 291\\n    },\\n    {\\n        \"DESCRIPCION\": \"048 01 01 03\",\\n        \"PAIS\": \"ESPAÑA\",\\n        \"VALOR\": 169\\n    },\\n    {\\n        \"DESCRIPCION\": \"048 01 01 04\",\\n        \"PAIS\": \"ALEMANOC\",\\n        \"VALOR\": 3243\\n    },\\n    {\\n        \"DESCRIPCION\": \"048 01 01 04\",\\n        \"PAIS\": \"HOLANDA\",\\n        \"VALOR\": 394\\n    },\\n    {\\n        \"DESCRIPCION\": \"048 01 01 04\",\\n        \"PAIS\": \"E U A\",\\n        \"VALOR\": 338\\n    },\\n    {\\n        \"DESCRIPCION\": \"048 01 01 04\",\\n        \"PAIS\": \"ESPAÑA\",\\n        \"VALOR\": 215\\n    },\\n    {\\n        \"DESCRIPCION\": \"048 01 01 04\",\\n        \"PAIS\": \"ARGENTIN\",\\n        \"VALOR\": 161\\n    },\\n    {\\n        \"DESCRIPCION\": \"048 01 01 05\",\\n        \"PAIS\": \"NICARAGU\",\\n        \"VALOR\": 7\\n    },\\n    {\\n        \"DESCRIPCION\": \"048 01 02 00\",\\n        \"PAIS\": \"E U A\",\\n        \"VALOR\": 42086\\n    },\\n    {\\n        \"DESCRIPCION\": \"048 01 02 00\",\\n        \"PAIS\": \"DINAMARC\",\\n        \"VALOR\": 2069\\n    },\\n    {\\n        \"DESCRIPCION\": \"048 01 02 00\",\\n        \"PAIS\": \"ALEMANOC\",\\n        \"VALOR\": 521\\n    },\\n    {\\n        \"DESCRIPCION\": \"048 01 02 00\",\\n        \"PAIS\": \"HOLANDA\",\\n        \"VALOR\": 92\\n    },\\n    {\\n        \"DESCRIPCION\": \"048 01 02 00\",\\n        \"PAIS\": \"PANAMA\",\\n        \"VALOR\": 81\\n    },\\n    {\\n        \"DESCRIPCION\": \"048 02 00 00\",\\n        \"PAIS\": \"E U A\",\\n        \"VALOR\": 138631\\n    },\\n    {\\n        \"DESCRIPCION\": \"048 02 00 00\",\\n        \"PAIS\": \"CANADA\",\\n        \"VALOR\": 72426\\n    },\\n    {\\n        \"DESCRIPCION\": \"048 03 00 00\",\\n        \"PAIS\": \"E U A\",\\n        \"VALOR\": 3014\\n    },\\n    {\\n        \"DESCRIPCION\": \"048 03 00 00\",\\n        \"PAIS\": \"HONG KON\",\\n        \"VALOR\": 1173\\n    },\\n    {\\n        \"DESCRIPCION\": \"048 03 00 00\",\\n        \"PAIS\": \"ITALIA\",\\n        \"VALOR\": 537\\n    },\\n    {\\n        \"DESCRIPCION\": \"048 03 00 00\",\\n        \"PAIS\": \"ESPAÑA\",\\n        \"VALOR\": 121\\n    },\\n    {\\n        \"DESCRIPCION\": \"048 03 00 00\",\\n        \"PAIS\": \"CHINA TA\",\\n        \"VALOR\": 35\\n    },\\n    {\\n        \"DESCRIPCION\": \"048 04 01 00\",\\n        \"PAIS\": \"ITALIA\",\\n        \"VALOR\": 548\\n    }\\n]'"
      ]
     },
     "execution_count": 23,
     "metadata": {},
     "output_type": "execute_result"
    }
   ],
   "source": [
    "test_output"
   ]
  },
  {
   "cell_type": "code",
   "execution_count": 24,
   "id": "a8987c73-4600-40b2-844d-5e70dbe1b89b",
   "metadata": {},
   "outputs": [
    {
     "data": {
      "text/plain": [
       "[{'DESCRIPCION': '048 01 01 03', 'PAIS': 'E U A', 'VALOR': 239824},\n",
       " {'DESCRIPCION': '048 01 01 03', 'PAIS': 'HOLANDA', 'VALOR': 29192},\n",
       " {'DESCRIPCION': '048 01 01 03', 'PAIS': 'CANADA', 'VALOR': 1008},\n",
       " {'DESCRIPCION': '048 01 01 03', 'PAIS': 'ALEMANOC', 'VALOR': 478},\n",
       " {'DESCRIPCION': '048 01 01 03', 'PAIS': 'MEXICO', 'VALOR': 541},\n",
       " {'DESCRIPCION': '048 01 01 03', 'PAIS': 'REINOUNI', 'VALOR': 291},\n",
       " {'DESCRIPCION': '048 01 01 03', 'PAIS': 'ESPAÑA', 'VALOR': 169},\n",
       " {'DESCRIPCION': '048 01 01 04', 'PAIS': 'ALEMANOC', 'VALOR': 3243},\n",
       " {'DESCRIPCION': '048 01 01 04', 'PAIS': 'HOLANDA', 'VALOR': 394},\n",
       " {'DESCRIPCION': '048 01 01 04', 'PAIS': 'E U A', 'VALOR': 338},\n",
       " {'DESCRIPCION': '048 01 01 04', 'PAIS': 'ESPAÑA', 'VALOR': 215},\n",
       " {'DESCRIPCION': '048 01 01 04', 'PAIS': 'ARGENTIN', 'VALOR': 161},\n",
       " {'DESCRIPCION': '048 01 01 05', 'PAIS': 'NICARAGU', 'VALOR': 7},\n",
       " {'DESCRIPCION': '048 01 02 00', 'PAIS': 'E U A', 'VALOR': 42086},\n",
       " {'DESCRIPCION': '048 01 02 00', 'PAIS': 'DINAMARC', 'VALOR': 2069},\n",
       " {'DESCRIPCION': '048 01 02 00', 'PAIS': 'ALEMANOC', 'VALOR': 521},\n",
       " {'DESCRIPCION': '048 01 02 00', 'PAIS': 'HOLANDA', 'VALOR': 92},\n",
       " {'DESCRIPCION': '048 01 02 00', 'PAIS': 'PANAMA', 'VALOR': 81},\n",
       " {'DESCRIPCION': '048 02 00 00', 'PAIS': 'E U A', 'VALOR': 138631},\n",
       " {'DESCRIPCION': '048 02 00 00', 'PAIS': 'CANADA', 'VALOR': 72426},\n",
       " {'DESCRIPCION': '048 03 00 00', 'PAIS': 'E U A', 'VALOR': 3014},\n",
       " {'DESCRIPCION': '048 03 00 00', 'PAIS': 'HONG KON', 'VALOR': 1173},\n",
       " {'DESCRIPCION': '048 03 00 00', 'PAIS': 'ITALIA', 'VALOR': 537},\n",
       " {'DESCRIPCION': '048 03 00 00', 'PAIS': 'ESPAÑA', 'VALOR': 121},\n",
       " {'DESCRIPCION': '048 03 00 00', 'PAIS': 'CHINA TA', 'VALOR': 35},\n",
       " {'DESCRIPCION': '048 04 01 00', 'PAIS': 'ITALIA', 'VALOR': 548}]"
      ]
     },
     "execution_count": 24,
     "metadata": {},
     "output_type": "execute_result"
    }
   ],
   "source": [
    "# test the output - does it behave like JSON?\n",
    "json.loads(test_output)"
   ]
  },
  {
   "cell_type": "code",
   "execution_count": 25,
   "id": "d01c0620-6292-4b2c-881b-a35c5b983c6b",
   "metadata": {},
   "outputs": [],
   "source": [
    "# Try to convert / regularize as a dataframe table\n",
    "test_output_as_pd = pd.DataFrame(json.loads(test_output))"
   ]
  },
  {
   "cell_type": "code",
   "execution_count": 26,
   "id": "07174611-10f9-480e-9aa3-78e374caf97c",
   "metadata": {
    "scrolled": true
   },
   "outputs": [
    {
     "data": {
      "text/html": [
       "<div>\n",
       "<style scoped>\n",
       "    .dataframe tbody tr th:only-of-type {\n",
       "        vertical-align: middle;\n",
       "    }\n",
       "\n",
       "    .dataframe tbody tr th {\n",
       "        vertical-align: top;\n",
       "    }\n",
       "\n",
       "    .dataframe thead th {\n",
       "        text-align: right;\n",
       "    }\n",
       "</style>\n",
       "<table border=\"1\" class=\"dataframe\">\n",
       "  <thead>\n",
       "    <tr style=\"text-align: right;\">\n",
       "      <th></th>\n",
       "      <th>DESCRIPCION</th>\n",
       "      <th>PAIS</th>\n",
       "      <th>VALOR</th>\n",
       "    </tr>\n",
       "  </thead>\n",
       "  <tbody>\n",
       "    <tr>\n",
       "      <th>0</th>\n",
       "      <td>048 01 01 03</td>\n",
       "      <td>E U A</td>\n",
       "      <td>239824</td>\n",
       "    </tr>\n",
       "    <tr>\n",
       "      <th>1</th>\n",
       "      <td>048 01 01 03</td>\n",
       "      <td>HOLANDA</td>\n",
       "      <td>29192</td>\n",
       "    </tr>\n",
       "    <tr>\n",
       "      <th>2</th>\n",
       "      <td>048 01 01 03</td>\n",
       "      <td>CANADA</td>\n",
       "      <td>1008</td>\n",
       "    </tr>\n",
       "    <tr>\n",
       "      <th>3</th>\n",
       "      <td>048 01 01 03</td>\n",
       "      <td>ALEMANOC</td>\n",
       "      <td>478</td>\n",
       "    </tr>\n",
       "    <tr>\n",
       "      <th>4</th>\n",
       "      <td>048 01 01 03</td>\n",
       "      <td>MEXICO</td>\n",
       "      <td>541</td>\n",
       "    </tr>\n",
       "    <tr>\n",
       "      <th>5</th>\n",
       "      <td>048 01 01 03</td>\n",
       "      <td>REINOUNI</td>\n",
       "      <td>291</td>\n",
       "    </tr>\n",
       "    <tr>\n",
       "      <th>6</th>\n",
       "      <td>048 01 01 03</td>\n",
       "      <td>ESPAÑA</td>\n",
       "      <td>169</td>\n",
       "    </tr>\n",
       "    <tr>\n",
       "      <th>7</th>\n",
       "      <td>048 01 01 04</td>\n",
       "      <td>ALEMANOC</td>\n",
       "      <td>3243</td>\n",
       "    </tr>\n",
       "    <tr>\n",
       "      <th>8</th>\n",
       "      <td>048 01 01 04</td>\n",
       "      <td>HOLANDA</td>\n",
       "      <td>394</td>\n",
       "    </tr>\n",
       "    <tr>\n",
       "      <th>9</th>\n",
       "      <td>048 01 01 04</td>\n",
       "      <td>E U A</td>\n",
       "      <td>338</td>\n",
       "    </tr>\n",
       "    <tr>\n",
       "      <th>10</th>\n",
       "      <td>048 01 01 04</td>\n",
       "      <td>ESPAÑA</td>\n",
       "      <td>215</td>\n",
       "    </tr>\n",
       "    <tr>\n",
       "      <th>11</th>\n",
       "      <td>048 01 01 04</td>\n",
       "      <td>ARGENTIN</td>\n",
       "      <td>161</td>\n",
       "    </tr>\n",
       "    <tr>\n",
       "      <th>12</th>\n",
       "      <td>048 01 01 05</td>\n",
       "      <td>NICARAGU</td>\n",
       "      <td>7</td>\n",
       "    </tr>\n",
       "    <tr>\n",
       "      <th>13</th>\n",
       "      <td>048 01 02 00</td>\n",
       "      <td>E U A</td>\n",
       "      <td>42086</td>\n",
       "    </tr>\n",
       "    <tr>\n",
       "      <th>14</th>\n",
       "      <td>048 01 02 00</td>\n",
       "      <td>DINAMARC</td>\n",
       "      <td>2069</td>\n",
       "    </tr>\n",
       "    <tr>\n",
       "      <th>15</th>\n",
       "      <td>048 01 02 00</td>\n",
       "      <td>ALEMANOC</td>\n",
       "      <td>521</td>\n",
       "    </tr>\n",
       "    <tr>\n",
       "      <th>16</th>\n",
       "      <td>048 01 02 00</td>\n",
       "      <td>HOLANDA</td>\n",
       "      <td>92</td>\n",
       "    </tr>\n",
       "    <tr>\n",
       "      <th>17</th>\n",
       "      <td>048 01 02 00</td>\n",
       "      <td>PANAMA</td>\n",
       "      <td>81</td>\n",
       "    </tr>\n",
       "    <tr>\n",
       "      <th>18</th>\n",
       "      <td>048 02 00 00</td>\n",
       "      <td>E U A</td>\n",
       "      <td>138631</td>\n",
       "    </tr>\n",
       "    <tr>\n",
       "      <th>19</th>\n",
       "      <td>048 02 00 00</td>\n",
       "      <td>CANADA</td>\n",
       "      <td>72426</td>\n",
       "    </tr>\n",
       "    <tr>\n",
       "      <th>20</th>\n",
       "      <td>048 03 00 00</td>\n",
       "      <td>E U A</td>\n",
       "      <td>3014</td>\n",
       "    </tr>\n",
       "    <tr>\n",
       "      <th>21</th>\n",
       "      <td>048 03 00 00</td>\n",
       "      <td>HONG KON</td>\n",
       "      <td>1173</td>\n",
       "    </tr>\n",
       "    <tr>\n",
       "      <th>22</th>\n",
       "      <td>048 03 00 00</td>\n",
       "      <td>ITALIA</td>\n",
       "      <td>537</td>\n",
       "    </tr>\n",
       "    <tr>\n",
       "      <th>23</th>\n",
       "      <td>048 03 00 00</td>\n",
       "      <td>ESPAÑA</td>\n",
       "      <td>121</td>\n",
       "    </tr>\n",
       "    <tr>\n",
       "      <th>24</th>\n",
       "      <td>048 03 00 00</td>\n",
       "      <td>CHINA TA</td>\n",
       "      <td>35</td>\n",
       "    </tr>\n",
       "    <tr>\n",
       "      <th>25</th>\n",
       "      <td>048 04 01 00</td>\n",
       "      <td>ITALIA</td>\n",
       "      <td>548</td>\n",
       "    </tr>\n",
       "  </tbody>\n",
       "</table>\n",
       "</div>"
      ],
      "text/plain": [
       "     DESCRIPCION      PAIS   VALOR\n",
       "0   048 01 01 03     E U A  239824\n",
       "1   048 01 01 03   HOLANDA   29192\n",
       "2   048 01 01 03    CANADA    1008\n",
       "3   048 01 01 03  ALEMANOC     478\n",
       "4   048 01 01 03    MEXICO     541\n",
       "5   048 01 01 03  REINOUNI     291\n",
       "6   048 01 01 03    ESPAÑA     169\n",
       "7   048 01 01 04  ALEMANOC    3243\n",
       "8   048 01 01 04   HOLANDA     394\n",
       "9   048 01 01 04     E U A     338\n",
       "10  048 01 01 04    ESPAÑA     215\n",
       "11  048 01 01 04  ARGENTIN     161\n",
       "12  048 01 01 05  NICARAGU       7\n",
       "13  048 01 02 00     E U A   42086\n",
       "14  048 01 02 00  DINAMARC    2069\n",
       "15  048 01 02 00  ALEMANOC     521\n",
       "16  048 01 02 00   HOLANDA      92\n",
       "17  048 01 02 00    PANAMA      81\n",
       "18  048 02 00 00     E U A  138631\n",
       "19  048 02 00 00    CANADA   72426\n",
       "20  048 03 00 00     E U A    3014\n",
       "21  048 03 00 00  HONG KON    1173\n",
       "22  048 03 00 00    ITALIA     537\n",
       "23  048 03 00 00    ESPAÑA     121\n",
       "24  048 03 00 00  CHINA TA      35\n",
       "25  048 04 01 00    ITALIA     548"
      ]
     },
     "execution_count": 26,
     "metadata": {},
     "output_type": "execute_result"
    }
   ],
   "source": [
    "test_output_as_pd"
   ]
  },
  {
   "cell_type": "markdown",
   "id": "aca85964-166c-4ed6-b286-4608e0f44381",
   "metadata": {},
   "source": [
    "## Step four (optional): Validate the output with a second prompt"
   ]
  },
  {
   "cell_type": "code",
   "execution_count": 47,
   "id": "4fec73e0-c6fb-4384-98bb-662bcbcd74e8",
   "metadata": {},
   "outputs": [],
   "source": [
    "# take in an image (e.g. from a PDF page); query claude API; return table\n",
    "def validate_response_second_image(image_path, year = 1960, first_pass = []):\n",
    "    # read image\n",
    "    with open(image_path, \"rb\") as f:\n",
    "        image_data = f.read()\n",
    "        base64_image = base64.b64encode(image_data).decode()\n",
    "    # construct messsage for API\n",
    "    # remove negative language\n",
    "    # for each row, extract the following information\n",
    "    # in your response, write ITEM: COUNTRY: VALUE:\n",
    "    # get more responses, THEN use regex to extract values and structure as table.\n",
    "    # parse as JSON as an intermediary step\n",
    "    # batch!\n",
    "\n",
    "    if year < 1964:\n",
    "        value_type = \"DOLARES\"\n",
    "    elif year == 1964:\n",
    "        value_type = \"PESOS CA\"\n",
    "    else:\n",
    "    \tvalue_type = \"PESOS CENTROAMERICANOS\"\n",
    "\n",
    "    messages = [\n",
    "        {\n",
    "            \"role\": \"user\",\n",
    "\n",
    "            \"role\": \"user\",\n",
    "            \"content\": [\n",
    "                 {\n",
    "                    \"type\": \"text\",\n",
    "                    \"text\":   \"I want you to validate the data you previously extracted from a scanned table. To do this, I'm going to send you the first pass data as a JSON list (list of dictionaries). Here is that data: \" + first_pass + \"   Ok. Done. Now, I'm going to send you the original image of the historical trade data table: \"\n",
    "\n",
    "\n",
    "                },\n",
    "                {\n",
    "                    \"type\": \"image\",\n",
    "                    \"source\": {\n",
    "                        \"type\": \"base64\",\n",
    "                        \"media_type\": \"image/jpeg\",\n",
    "                        \"data\": base64_image\n",
    "                    }\n",
    "                },\n",
    "                                     {\n",
    "                    \"type\": \"text\",\n",
    "                    \"text\":   \"Now I want you to compare the table and the image. What digits and words did you mix up? I want you identify every difference betwen the JSON list and the image. For every record in this JSON list, compare all three values (DESCRIPCION, PAIS, and VALOR) to the image ,where they should appear in the DESCRIPCION, PAIS, and \" + value_type + \" columns. Wherever you misread a digit, number, or string, fix your mistakes. Now, give me your updated version of this data as a JSON list. No other information is necessary.\"\n",
    "\n",
    "\n",
    "                }\n",
    "            ]\n",
    "        },\n",
    "        {\n",
    "            \"role\": \"assistant\",\n",
    "            \"content\":'''[\n",
    "    {\n",
    "        \"DESCRIPCION\":''' }\n",
    "    ]\n",
    "\n",
    "    # send message\n",
    "\n",
    "    response = client.messages.create(\n",
    "        model=\"claude-3-5-sonnet-20241022\",\n",
    "        messages=messages,\n",
    "        system=\"You are a computational historian who is looking to very very accurately review and update historical data.\",\n",
    "        max_tokens=8192\n",
    "    )\n",
    "\n",
    "\n",
    "    text_content = response.content[0].text\n",
    "\n",
    "\n",
    "    # we must manually add the JSON prefix text back\n",
    "    text_content_final = '''[\n",
    "    {\n",
    "        \"DESCRIPCION\":''' + text_content\n",
    "    \n",
    " \n",
    "    text_content_final\n",
    "\n",
    "    return text_content_final"
   ]
  },
  {
   "cell_type": "code",
   "execution_count": 48,
   "id": "be33243e-0e89-4a27-be15-6e446f701a42",
   "metadata": {},
   "outputs": [
    {
     "name": "stdout",
     "output_type": "stream",
     "text": [
      "Time taken: 14.428977727890015 seconds\n"
     ]
    }
   ],
   "source": [
    "# test out our validation\n",
    "\n",
    "# test with existing image\n",
    "start_time = time.time()\n",
    "test_second_pass_output = validate_response_second_image(\"images_import_only/file1960_page40.jpg\", year = 1960, first_pass = test_output)\n",
    "print(f\"Time taken: {time.time() - start_time} seconds\")"
   ]
  },
  {
   "cell_type": "code",
   "execution_count": 49,
   "id": "32a10ca3-5110-4cae-acd8-3f2e12cacd59",
   "metadata": {
    "scrolled": true
   },
   "outputs": [
    {
     "data": {
      "text/plain": [
       "[{'DESCRIPCION': '048 01 01 03', 'PAIS': 'E U A', 'VALOR': 235424},\n",
       " {'DESCRIPCION': '048 01 01 03', 'PAIS': 'HOLANDA', 'VALOR': 22123},\n",
       " {'DESCRIPCION': '048 01 01 03', 'PAIS': 'CANADA', 'VALOR': 1008},\n",
       " {'DESCRIPCION': '048 01 01 03', 'PAIS': 'ALEMANOC', 'VALOR': 478},\n",
       " {'DESCRIPCION': '048 01 01 03', 'PAIS': 'FRANCIA', 'VALOR': 348},\n",
       " {'DESCRIPCION': '048 01 01 03', 'PAIS': 'REINOUNI', 'VALOR': 291},\n",
       " {'DESCRIPCION': '048 01 01 03', 'PAIS': 'ESPAÑA', 'VALOR': 169},\n",
       " {'DESCRIPCION': '048 01 01 04', 'PAIS': 'ALEMANOC', 'VALOR': 3242},\n",
       " {'DESCRIPCION': '048 01 01 04', 'PAIS': 'POLONIA', 'VALOR': 394},\n",
       " {'DESCRIPCION': '048 01 01 04', 'PAIS': 'E U A', 'VALOR': 358},\n",
       " {'DESCRIPCION': '048 01 01 04', 'PAIS': 'ESPAÑA', 'VALOR': 215},\n",
       " {'DESCRIPCION': '048 01 01 04', 'PAIS': 'ARGENTIN', 'VALOR': 161},\n",
       " {'DESCRIPCION': '048 01 01 05', 'PAIS': 'NICARAGU', 'VALOR': 7},\n",
       " {'DESCRIPCION': '048 01 02 00', 'PAIS': 'E U A', 'VALOR': 42086},\n",
       " {'DESCRIPCION': '048 01 02 00', 'PAIS': 'DINAMARC', 'VALOR': 2069},\n",
       " {'DESCRIPCION': '048 01 02 00', 'PAIS': 'ALEMANOC', 'VALOR': 521},\n",
       " {'DESCRIPCION': '048 01 02 00', 'PAIS': 'HOLANDA', 'VALOR': 92},\n",
       " {'DESCRIPCION': '048 01 02 00', 'PAIS': 'PANAMA', 'VALOR': 81},\n",
       " {'DESCRIPCION': '048 02 00 00', 'PAIS': 'E U A', 'VALOR': 138631},\n",
       " {'DESCRIPCION': '048 02 00 00', 'PAIS': 'CANADA', 'VALOR': 72426},\n",
       " {'DESCRIPCION': '048 03 00 00', 'PAIS': 'E U A', 'VALOR': 3014},\n",
       " {'DESCRIPCION': '048 03 00 00', 'PAIS': 'HONG KON', 'VALOR': 1173},\n",
       " {'DESCRIPCION': '048 03 00 00', 'PAIS': 'ITALIA', 'VALOR': 137},\n",
       " {'DESCRIPCION': '048 03 00 00', 'PAIS': 'ESPAÑA', 'VALOR': 121},\n",
       " {'DESCRIPCION': '048 03 00 00', 'PAIS': 'CHINA TA', 'VALOR': 35},\n",
       " {'DESCRIPCION': '048 04 01 00', 'PAIS': 'ITALIA', 'VALOR': 548}]"
      ]
     },
     "execution_count": 49,
     "metadata": {},
     "output_type": "execute_result"
    }
   ],
   "source": [
    "json.loads(test_second_pass_output)"
   ]
  },
  {
   "cell_type": "code",
   "execution_count": 50,
   "id": "b4437fab-5bc8-46a8-a403-a5ad21dc6c85",
   "metadata": {
    "scrolled": true
   },
   "outputs": [
    {
     "data": {
      "text/plain": [
       "[{'DESCRIPCION': '048 01 01 03', 'PAIS': 'E U A', 'VALOR': 235424},\n",
       " {'DESCRIPCION': '048 01 01 03', 'PAIS': 'HOLANDA', 'VALOR': 22123},\n",
       " {'DESCRIPCION': '048 01 01 03', 'PAIS': 'CANADA', 'VALOR': 1008},\n",
       " {'DESCRIPCION': '048 01 01 03', 'PAIS': 'ALEMANOC', 'VALOR': 478},\n",
       " {'DESCRIPCION': '048 01 01 03', 'PAIS': 'FRANCIA', 'VALOR': 348},\n",
       " {'DESCRIPCION': '048 01 01 03', 'PAIS': 'REINOUNI', 'VALOR': 291},\n",
       " {'DESCRIPCION': '048 01 01 03', 'PAIS': 'ESPAÑA', 'VALOR': 169},\n",
       " {'DESCRIPCION': '048 01 01 04', 'PAIS': 'ALEMANOC', 'VALOR': 3242},\n",
       " {'DESCRIPCION': '048 01 01 04', 'PAIS': 'POLONIA', 'VALOR': 394},\n",
       " {'DESCRIPCION': '048 01 01 04', 'PAIS': 'E U A', 'VALOR': 358},\n",
       " {'DESCRIPCION': '048 01 01 04', 'PAIS': 'ESPAÑA', 'VALOR': 215},\n",
       " {'DESCRIPCION': '048 01 01 04', 'PAIS': 'ARGENTIN', 'VALOR': 161},\n",
       " {'DESCRIPCION': '048 01 01 05', 'PAIS': 'NICARAGU', 'VALOR': 7},\n",
       " {'DESCRIPCION': '048 01 02 00', 'PAIS': 'E U A', 'VALOR': 42086},\n",
       " {'DESCRIPCION': '048 01 02 00', 'PAIS': 'DINAMARC', 'VALOR': 2069},\n",
       " {'DESCRIPCION': '048 01 02 00', 'PAIS': 'ALEMANOC', 'VALOR': 521},\n",
       " {'DESCRIPCION': '048 01 02 00', 'PAIS': 'HOLANDA', 'VALOR': 92},\n",
       " {'DESCRIPCION': '048 01 02 00', 'PAIS': 'PANAMA', 'VALOR': 81},\n",
       " {'DESCRIPCION': '048 02 00 00', 'PAIS': 'E U A', 'VALOR': 138631},\n",
       " {'DESCRIPCION': '048 02 00 00', 'PAIS': 'CANADA', 'VALOR': 72426},\n",
       " {'DESCRIPCION': '048 03 00 00', 'PAIS': 'E U A', 'VALOR': 3014},\n",
       " {'DESCRIPCION': '048 03 00 00', 'PAIS': 'HONG KON', 'VALOR': 1173},\n",
       " {'DESCRIPCION': '048 03 00 00', 'PAIS': 'ITALIA', 'VALOR': 137},\n",
       " {'DESCRIPCION': '048 03 00 00', 'PAIS': 'ESPAÑA', 'VALOR': 121},\n",
       " {'DESCRIPCION': '048 03 00 00', 'PAIS': 'CHINA TA', 'VALOR': 35},\n",
       " {'DESCRIPCION': '048 04 01 00', 'PAIS': 'ITALIA', 'VALOR': 548}]"
      ]
     },
     "execution_count": 50,
     "metadata": {},
     "output_type": "execute_result"
    }
   ],
   "source": [
    "json.loads(test_output)"
   ]
  },
  {
   "cell_type": "markdown",
   "id": "20362c98-e845-4927-bd72-0021b173142f",
   "metadata": {},
   "source": [
    "## Step five: Run workflow on complete dataset"
   ]
  },
  {
   "cell_type": "code",
   "execution_count": null,
   "id": "3e64f8ac-a254-4967-89c3-8f268b317a03",
   "metadata": {},
   "outputs": [],
   "source": [
    "# create metadata based on import/export images in folders\n",
    "# this metadata will drive the querying process next\n",
    "\n",
    "all_import_images = os.listdir('images_import_only')\n",
    "all_export_images =  os.listdir('images_export_only')\n",
    "\n",
    "all_image_metadata = []"
   ]
  },
  {
   "cell_type": "code",
   "execution_count": null,
   "id": "c7bf710e-4d01-44e2-bdf8-d27b144f094f",
   "metadata": {},
   "outputs": [],
   "source": [
    "for image_filename in all_import_images:\n",
    "    try:\n",
    "        year = int(image_filename[4:8])\n",
    "        image_page = int(image_filename[13:-4])\n",
    "        current_image = {'year': year\n",
    "                         ,'page': image_page\n",
    "                         ,'source_type': 'import'\n",
    "                         ,'filename': image_filename\n",
    "                         ,'full_path': 'images_import_only/' + image_filename}\n",
    "        all_image_metadata.append(current_image)\n",
    "    except:\n",
    "        pass\n",
    "\n",
    "for image_filename in all_export_images:\n",
    "    try:\n",
    "        year = int(image_filename[4:8])\n",
    "        image_page = int(image_filename[13:-4])\n",
    "        current_image = {'year': year\n",
    "                         ,'page': image_page\n",
    "                         ,'source_type': 'export'\n",
    "                         ,'filename': image_filename\n",
    "                         ,'full_path': 'images_export_only/' + image_filename}\n",
    "        all_image_metadata.append(current_image)\n",
    "    except:\n",
    "        pass\n",
    "\n",
    "                "
   ]
  },
  {
   "cell_type": "code",
   "execution_count": null,
   "id": "837062da-dfa0-4486-9e03-de8fdef146d1",
   "metadata": {},
   "outputs": [],
   "source": [
    "all_images_df = pd.DataFrame(all_image_metadata).sort_values(['source_type', 'year', 'page'], ascending=[False, True, True])\n",
    "all_images_df"
   ]
  },
  {
   "cell_type": "code",
   "execution_count": null,
   "id": "69a66c07-03d7-463e-b14f-01054b0ba4be",
   "metadata": {},
   "outputs": [],
   "source": [
    "# ALL EXPORTS LET US TRY\n",
    "\n",
    "for image in all_images_df[all_images_df[\"source_type\"] == \"export\"].to_dict(orient=\"records\"):\n",
    "    image_full_path = image[\"full_path\"]\n",
    "    image_filename = image[\"filename\"]\n",
    "    image_year = int(image[\"year\"])\n",
    "    image_page = image[\"page\"]\n",
    "    start_time = time.time()\n",
    "    test_output = create_dataframe_from_image(image_full_path, image_year)\n",
    "    print(f\"Time taken: {time.time() - start_time} seconds\")\n",
    "    # try to parse the JSON and conver to csv. if it works, save as CSV. if not, save as raw TXT\n",
    "    try:\n",
    "        parsed_json = json.loads(test_output)\n",
    "        final_dataframe = pd.DataFrame(parsed_json)\n",
    "        output_filename = image_filename[0:-4]\n",
    "        output_filename = output_filename + \"_export.csv\"\n",
    "        final_dataframe[\"year\"] = image_year\n",
    "        final_dataframe[\"pdf_image_page\"] = image_page\n",
    "        final_dataframe.to_csv(\"data_export_only/\" + output_filename, index=False)\n",
    "        print(\"success for \" + image_filename + \" response\")\n",
    "    except:\n",
    "        print(\"parsing error! will save as text.\")\n",
    "        output_filename = image_filename[0:-4]\n",
    "        output_filename = output_filename + \"_export_parsefail.txt\"\n",
    "        with open(\"data_export_only/\" + output_filename, \"w\") as text_file:\n",
    "            text_file.write(test_output)\n",
    "        print(\"written as raw text.\")\n",
    "\n",
    "    time.sleep(5)\n"
   ]
  },
  {
   "cell_type": "code",
   "execution_count": null,
   "id": "dd079166-57b5-4498-a5e0-9b2c93ee6381",
   "metadata": {},
   "outputs": [],
   "source": [
    "# add slight tweaked version for imports here!!!"
   ]
  }
 ],
 "metadata": {
  "kernelspec": {
   "display_name": "Python 3 (ipykernel)",
   "language": "python",
   "name": "python3"
  },
  "language_info": {
   "codemirror_mode": {
    "name": "ipython",
    "version": 3
   },
   "file_extension": ".py",
   "mimetype": "text/x-python",
   "name": "python",
   "nbconvert_exporter": "python",
   "pygments_lexer": "ipython3",
   "version": "3.12.7"
  }
 },
 "nbformat": 4,
 "nbformat_minor": 5
}
